{
 "cells": [
  {
   "cell_type": "code",
   "execution_count": 5,
   "metadata": {},
   "outputs": [
    {
     "name": "stdout",
     "output_type": "stream",
     "text": [
      "(1010, 17)\n"
     ]
    }
   ],
   "source": [
    "# Load CSV using Pandas \n",
    "from urllib.request import urlopen\n",
    "from pandas import read_csv \n",
    "filename = 'Student_Admissions.csv' \n",
    "data = read_csv(filename) \n",
    "print(data.shape)"
   ]
  },
  {
   "cell_type": "code",
   "execution_count": 6,
   "metadata": {},
   "outputs": [
    {
     "name": "stdout",
     "output_type": "stream",
     "text": [
      "    Unnamed: 0  Batch  Eng7  Eng8  Eng9  Math7  Math8  Math9  Sci7  Sci8  \\\n",
      "0            0   2005    77  82.0    86     94     87   92.0    84    80   \n",
      "1            1   2005    57  57.0    59     55     46   57.0    53    45   \n",
      "2            2   2005    55  52.0    55     57     53   51.0    57    62   \n",
      "3            3   2005    69  78.0    78     87     79   79.0    83    82   \n",
      "4            4   2005    64  71.0    68     71     57   54.0    60    59   \n",
      "5            5   2005    66  61.0    68     57     50   53.0    71    51   \n",
      "6            6   2005    73  82.0    77     90     82   74.0    77    77   \n",
      "7            7   2005    85  86.0    88     82     76   78.0    93    87   \n",
      "8            8   2005    70  68.0    67     77     67   61.0    72    61   \n",
      "9            9   2005    49  49.0    51     51     50   50.0    62    55   \n",
      "10          10   2005    76  78.0    75     83     77   84.0    86    77   \n",
      "11          11   2005    63  60.0    57     62     62   56.0    69    66   \n",
      "12          12   2005    80  82.0    83     85     80   81.0    92    87   \n",
      "13          13   2005    61  55.0    64     52     48   58.0    63    57   \n",
      "14          14   2005    63  66.0    69     64     59   53.0    76    50   \n",
      "15          15   2005    70  75.0    74     84     73   81.0    82    71   \n",
      "16          16   2005    75  77.0    83     66     67   68.0    72    69   \n",
      "17          17   2005    54  46.0    53     54     50   50.0    60    63   \n",
      "18          18   2005    63  74.0    67     75     70   69.0    76    64   \n",
      "19          19   2005    72  74.0    78     79     75   73.0    76    71   \n",
      "\n",
      "    Sci9    GWA7    GWA8    GWA9  UP    IQ  Target  \n",
      "0     92  1.4764  1.5045  1.4098   1  55.0       1  \n",
      "1     53  2.6557  2.7000  2.7008   1  38.0       0  \n",
      "2     51  2.6132  2.6818  2.7172   0  17.0       0  \n",
      "3     79  1.7217  1.6136  1.7049   1  45.0       0  \n",
      "4     55  2.4245  2.4318  2.4713   1  67.0       0  \n",
      "5     55  2.4575  2.5909  2.4672   0  79.0       0  \n",
      "6     68  1.7594  1.6682  1.9344   1  89.0       1  \n",
      "7     81  1.4764  1.4682  1.5000   0  94.0       1  \n",
      "8     62  2.0377  2.2045  2.4221   0  90.0       0  \n",
      "9     47  2.6179  2.6909  2.7992   0  25.0       0  \n",
      "10    80  1.7075  1.7227  1.7131   0  81.0       1  \n",
      "11    58  2.2594  2.3182  2.3525   1  29.0       0  \n",
      "12    83  1.5094  1.5818  1.6475   0  91.0       1  \n",
      "13    53  2.5330  2.6727  2.5738   0  52.0       0  \n",
      "14    59  2.1415  2.2909  2.3074   1  57.0       0  \n",
      "15    71  1.8585  1.9364  1.9221   0  87.0       1  \n",
      "16    77  2.0047  1.8955  1.7951   1  62.0       1  \n",
      "17    49  2.9057  2.6864  2.7828   0  57.0       0  \n",
      "18    71  1.8774  2.0091  2.0492   0  60.0       0  \n",
      "19    69  1.8208  1.8864  1.9344   0  62.0       0  \n"
     ]
    }
   ],
   "source": [
    "# View first 20 rows \n",
    "from pandas import read_csv \n",
    "filename = \"Student_Admissions.csv\" \n",
    "data = read_csv(filename) \n",
    "peek = data.head(20)\n",
    "print(peek)"
   ]
  },
  {
   "cell_type": "code",
   "execution_count": 24,
   "metadata": {},
   "outputs": [
    {
     "data": {
      "text/plain": [
       "Unnamed: 0    0\n",
       "Batch         0\n",
       "Eng7          0\n",
       "Eng8          0\n",
       "Eng9          0\n",
       "Math7         0\n",
       "Math8         0\n",
       "Math9         0\n",
       "Sci7          0\n",
       "Sci8          0\n",
       "Sci9          0\n",
       "GWA7          0\n",
       "GWA8          0\n",
       "GWA9          0\n",
       "UP            0\n",
       "IQ            0\n",
       "Target        0\n",
       "dtype: int64"
      ]
     },
     "execution_count": 24,
     "metadata": {},
     "output_type": "execute_result"
    }
   ],
   "source": [
    "from sklearn import preprocessing\n",
    "from pandas import read_csv \n",
    "filename = \"Student_Admissions.csv\" \n",
    "data = read_csv(filename)\n",
    "\n",
    "data = data.dropna(how='any')\n",
    "\n",
    "data.isnull().sum()"
   ]
  },
  {
   "cell_type": "code",
   "execution_count": 29,
   "metadata": {},
   "outputs": [
    {
     "name": "stdout",
     "output_type": "stream",
     "text": [
      "            Unnamed: 0  Batch   Eng7   Eng8   Eng9  Math7  Math8  Math9   Sci7   Sci8   Sci9  \\\n",
      "Unnamed: 0       1.000  0.994  0.132  0.082 -0.023  0.010  0.056  0.048 -0.048  0.043  0.166   \n",
      "Batch            0.994  1.000  0.133  0.084 -0.021  0.009  0.052  0.045 -0.052  0.046  0.164   \n",
      "Eng7             0.132  0.133  1.000  0.875  0.832  0.721  0.671  0.655  0.823  0.745  0.757   \n",
      "Eng8             0.082  0.084  0.875  1.000  0.848  0.709  0.715  0.696  0.806  0.797  0.768   \n",
      "Eng9            -0.023 -0.021  0.832  0.848  1.000  0.676  0.685  0.716  0.770  0.773  0.790   \n",
      "Math7            0.010  0.009  0.721  0.709  0.676  1.000  0.867  0.830  0.831  0.764  0.793   \n",
      "Math8            0.056  0.052  0.671  0.715  0.685  0.867  1.000  0.890  0.768  0.826  0.838   \n",
      "Math9            0.048  0.045  0.655  0.696  0.716  0.830  0.890  1.000  0.746  0.783  0.887   \n",
      "Sci7            -0.048 -0.052  0.823  0.806  0.770  0.831  0.768  0.746  1.000  0.796  0.790   \n",
      "Sci8             0.043  0.046  0.745  0.797  0.773  0.764  0.826  0.783  0.796  1.000  0.831   \n",
      "Sci9             0.166  0.164  0.757  0.768  0.790  0.793  0.838  0.887  0.790  0.831  1.000   \n",
      "GWA7             0.041  0.042 -0.889 -0.856 -0.821 -0.870 -0.800 -0.778 -0.942 -0.821 -0.823   \n",
      "GWA8            -0.021 -0.025 -0.032 -0.028 -0.006 -0.028 -0.036 -0.046 -0.002 -0.023 -0.044   \n",
      "GWA9             0.051  0.049 -0.211 -0.200 -0.250 -0.225 -0.223 -0.235 -0.245 -0.226 -0.244   \n",
      "UP              -0.044 -0.045 -0.126 -0.120 -0.107 -0.131 -0.138 -0.093 -0.113 -0.146 -0.094   \n",
      "IQ              -0.017 -0.010  0.539  0.537  0.544  0.588  0.511  0.490  0.545  0.498  0.475   \n",
      "Target          -0.064 -0.068  0.656  0.672  0.689  0.641  0.647  0.648  0.695  0.643  0.647   \n",
      "\n",
      "             GWA7   GWA8   GWA9     UP     IQ  Target  \n",
      "Unnamed: 0  0.041 -0.021  0.051 -0.044 -0.017  -0.064  \n",
      "Batch       0.042 -0.025  0.049 -0.045 -0.010  -0.068  \n",
      "Eng7       -0.889 -0.032 -0.211 -0.126  0.539   0.656  \n",
      "Eng8       -0.856 -0.028 -0.200 -0.120  0.537   0.672  \n",
      "Eng9       -0.821 -0.006 -0.250 -0.107  0.544   0.689  \n",
      "Math7      -0.870 -0.028 -0.225 -0.131  0.588   0.641  \n",
      "Math8      -0.800 -0.036 -0.223 -0.138  0.511   0.647  \n",
      "Math9      -0.778 -0.046 -0.235 -0.093  0.490   0.648  \n",
      "Sci7       -0.942 -0.002 -0.245 -0.113  0.545   0.695  \n",
      "Sci8       -0.821 -0.023 -0.226 -0.146  0.498   0.643  \n",
      "Sci9       -0.823 -0.044 -0.244 -0.094  0.475   0.647  \n",
      "GWA7        1.000  0.015  0.246  0.108 -0.547  -0.703  \n",
      "GWA8        0.015  1.000  0.006  0.027 -0.036  -0.035  \n",
      "GWA9        0.246  0.006  1.000 -0.013 -0.104  -0.176  \n",
      "UP          0.108  0.027 -0.013  1.000 -0.178  -0.074  \n",
      "IQ         -0.547 -0.036 -0.104 -0.178  1.000   0.529  \n",
      "Target     -0.703 -0.035 -0.176 -0.074  0.529   1.000  \n"
     ]
    }
   ],
   "source": [
    "#Pairwise Pearson correlations \n",
    "from pandas import read_csv \n",
    "from pandas import set_option \n",
    "filename = \"Student_Admissions.csv\" \n",
    "data = read_csv(filename) \n",
    "set_option('display.width', 100) \n",
    "set_option('precision', 3) \n",
    "correlations = data.corr(method='pearson' ) \n",
    "print(correlations)"
   ]
  },
  {
   "cell_type": "code",
   "execution_count": 44,
   "metadata": {
    "scrolled": true
   },
   "outputs": [
    {
     "name": "stdout",
     "output_type": "stream",
     "text": [
      "class\n",
      "0         530\n",
      "1         480\n",
      "Target      1\n",
      "dtype: int64\n"
     ]
    }
   ],
   "source": [
    "# Class Distribution\n",
    "from pandas import read_csv \n",
    "filename = \"Student_Admissions.csv\" \n",
    "names = ['preg' , 'plas' , 'pres' , 'skin' , 'test' , 'mass' , 'pedi' , 'age' , 'class'] \n",
    "data = read_csv(filename, names=names)\n",
    "class_counts = data.groupby('class').size() \n",
    "print(class_counts)\n"
   ]
  },
  {
   "cell_type": "code",
   "execution_count": null,
   "metadata": {},
   "outputs": [],
   "source": []
  },
  {
   "cell_type": "code",
   "execution_count": 55,
   "metadata": {},
   "outputs": [
    {
     "ename": "ValueError",
     "evalue": "could not convert string to float: 'Sci7'",
     "output_type": "error",
     "traceback": [
      "\u001b[1;31m---------------------------------------------------------------------------\u001b[0m",
      "\u001b[1;31mValueError\u001b[0m                                Traceback (most recent call last)",
      "\u001b[1;32m<ipython-input-55-e8ca6587ca4e>\u001b[0m in \u001b[0;36m<module>\u001b[1;34m\u001b[0m\n\u001b[0;32m     14\u001b[0m \u001b[0mX\u001b[0m \u001b[1;33m=\u001b[0m \u001b[0marray\u001b[0m\u001b[1;33m[\u001b[0m\u001b[1;33m:\u001b[0m\u001b[1;33m,\u001b[0m\u001b[1;36m0\u001b[0m\u001b[1;33m:\u001b[0m\u001b[1;36m8\u001b[0m\u001b[1;33m]\u001b[0m\u001b[1;33m\u001b[0m\u001b[1;33m\u001b[0m\u001b[0m\n\u001b[0;32m     15\u001b[0m \u001b[0mY\u001b[0m \u001b[1;33m=\u001b[0m \u001b[0marray\u001b[0m\u001b[1;33m[\u001b[0m\u001b[1;33m:\u001b[0m\u001b[1;33m,\u001b[0m\u001b[1;33m-\u001b[0m\u001b[1;36m1\u001b[0m\u001b[1;33m]\u001b[0m\u001b[1;33m\u001b[0m\u001b[1;33m\u001b[0m\u001b[0m\n\u001b[1;32m---> 16\u001b[1;33m \u001b[0mbinarizer\u001b[0m \u001b[1;33m=\u001b[0m \u001b[0mBinarizer\u001b[0m\u001b[1;33m(\u001b[0m\u001b[0mthreshold\u001b[0m\u001b[1;33m=\u001b[0m\u001b[1;36m0.0\u001b[0m\u001b[1;33m)\u001b[0m\u001b[1;33m.\u001b[0m\u001b[0mfit\u001b[0m\u001b[1;33m(\u001b[0m\u001b[0mX\u001b[0m\u001b[1;33m)\u001b[0m\u001b[1;33m\u001b[0m\u001b[1;33m\u001b[0m\u001b[0m\n\u001b[0m\u001b[0;32m     17\u001b[0m \u001b[0mbinary_data\u001b[0m \u001b[1;33m=\u001b[0m \u001b[0mbinarizer\u001b[0m\u001b[1;33m.\u001b[0m\u001b[0mtransform\u001b[0m\u001b[1;33m(\u001b[0m\u001b[0mX\u001b[0m\u001b[1;33m)\u001b[0m\u001b[1;33m\u001b[0m\u001b[1;33m\u001b[0m\u001b[0m\n\u001b[0;32m     18\u001b[0m \u001b[0mbinary_data\u001b[0m \u001b[1;33m=\u001b[0m \u001b[0mpd\u001b[0m\u001b[1;33m.\u001b[0m\u001b[0mDataFrame\u001b[0m\u001b[1;33m(\u001b[0m\u001b[0mbinary_data\u001b[0m\u001b[1;33m,\u001b[0m \u001b[0mcolumns\u001b[0m\u001b[1;33m=\u001b[0m\u001b[0mnames\u001b[0m\u001b[1;33m[\u001b[0m\u001b[1;33m:\u001b[0m\u001b[1;33m-\u001b[0m\u001b[1;36m1\u001b[0m\u001b[1;33m]\u001b[0m\u001b[1;33m)\u001b[0m\u001b[1;33m\u001b[0m\u001b[1;33m\u001b[0m\u001b[0m\n",
      "\u001b[1;32m~\\Anaconda3\\lib\\site-packages\\sklearn\\preprocessing\\data.py\u001b[0m in \u001b[0;36mfit\u001b[1;34m(self, X, y)\u001b[0m\n\u001b[0;32m   1855\u001b[0m         \u001b[0mX\u001b[0m \u001b[1;33m:\u001b[0m \u001b[0marray\u001b[0m\u001b[1;33m-\u001b[0m\u001b[0mlike\u001b[0m\u001b[1;33m\u001b[0m\u001b[1;33m\u001b[0m\u001b[0m\n\u001b[0;32m   1856\u001b[0m         \"\"\"\n\u001b[1;32m-> 1857\u001b[1;33m         \u001b[0mcheck_array\u001b[0m\u001b[1;33m(\u001b[0m\u001b[0mX\u001b[0m\u001b[1;33m,\u001b[0m \u001b[0maccept_sparse\u001b[0m\u001b[1;33m=\u001b[0m\u001b[1;34m'csr'\u001b[0m\u001b[1;33m)\u001b[0m\u001b[1;33m\u001b[0m\u001b[1;33m\u001b[0m\u001b[0m\n\u001b[0m\u001b[0;32m   1858\u001b[0m         \u001b[1;32mreturn\u001b[0m \u001b[0mself\u001b[0m\u001b[1;33m\u001b[0m\u001b[1;33m\u001b[0m\u001b[0m\n\u001b[0;32m   1859\u001b[0m \u001b[1;33m\u001b[0m\u001b[0m\n",
      "\u001b[1;32m~\\Anaconda3\\lib\\site-packages\\sklearn\\utils\\validation.py\u001b[0m in \u001b[0;36mcheck_array\u001b[1;34m(array, accept_sparse, accept_large_sparse, dtype, order, copy, force_all_finite, ensure_2d, allow_nd, ensure_min_samples, ensure_min_features, warn_on_dtype, estimator)\u001b[0m\n\u001b[0;32m    494\u001b[0m             \u001b[1;32mtry\u001b[0m\u001b[1;33m:\u001b[0m\u001b[1;33m\u001b[0m\u001b[1;33m\u001b[0m\u001b[0m\n\u001b[0;32m    495\u001b[0m                 \u001b[0mwarnings\u001b[0m\u001b[1;33m.\u001b[0m\u001b[0msimplefilter\u001b[0m\u001b[1;33m(\u001b[0m\u001b[1;34m'error'\u001b[0m\u001b[1;33m,\u001b[0m \u001b[0mComplexWarning\u001b[0m\u001b[1;33m)\u001b[0m\u001b[1;33m\u001b[0m\u001b[1;33m\u001b[0m\u001b[0m\n\u001b[1;32m--> 496\u001b[1;33m                 \u001b[0marray\u001b[0m \u001b[1;33m=\u001b[0m \u001b[0mnp\u001b[0m\u001b[1;33m.\u001b[0m\u001b[0masarray\u001b[0m\u001b[1;33m(\u001b[0m\u001b[0marray\u001b[0m\u001b[1;33m,\u001b[0m \u001b[0mdtype\u001b[0m\u001b[1;33m=\u001b[0m\u001b[0mdtype\u001b[0m\u001b[1;33m,\u001b[0m \u001b[0morder\u001b[0m\u001b[1;33m=\u001b[0m\u001b[0morder\u001b[0m\u001b[1;33m)\u001b[0m\u001b[1;33m\u001b[0m\u001b[1;33m\u001b[0m\u001b[0m\n\u001b[0m\u001b[0;32m    497\u001b[0m             \u001b[1;32mexcept\u001b[0m \u001b[0mComplexWarning\u001b[0m\u001b[1;33m:\u001b[0m\u001b[1;33m\u001b[0m\u001b[1;33m\u001b[0m\u001b[0m\n\u001b[0;32m    498\u001b[0m                 raise ValueError(\"Complex data not supported\\n\"\n",
      "\u001b[1;32m~\\Anaconda3\\lib\\site-packages\\numpy\\core\\numeric.py\u001b[0m in \u001b[0;36masarray\u001b[1;34m(a, dtype, order)\u001b[0m\n\u001b[0;32m    536\u001b[0m \u001b[1;33m\u001b[0m\u001b[0m\n\u001b[0;32m    537\u001b[0m     \"\"\"\n\u001b[1;32m--> 538\u001b[1;33m     \u001b[1;32mreturn\u001b[0m \u001b[0marray\u001b[0m\u001b[1;33m(\u001b[0m\u001b[0ma\u001b[0m\u001b[1;33m,\u001b[0m \u001b[0mdtype\u001b[0m\u001b[1;33m,\u001b[0m \u001b[0mcopy\u001b[0m\u001b[1;33m=\u001b[0m\u001b[1;32mFalse\u001b[0m\u001b[1;33m,\u001b[0m \u001b[0morder\u001b[0m\u001b[1;33m=\u001b[0m\u001b[0morder\u001b[0m\u001b[1;33m)\u001b[0m\u001b[1;33m\u001b[0m\u001b[1;33m\u001b[0m\u001b[0m\n\u001b[0m\u001b[0;32m    539\u001b[0m \u001b[1;33m\u001b[0m\u001b[0m\n\u001b[0;32m    540\u001b[0m \u001b[1;33m\u001b[0m\u001b[0m\n",
      "\u001b[1;31mValueError\u001b[0m: could not convert string to float: 'Sci7'"
     ]
    }
   ],
   "source": [
    "# Hypothesis testing using chi-square test (Note: code is not good)\n",
    "from matplotlib import pyplot \n",
    "from pandas import read_csv \n",
    "import numpy \n",
    "from scipy import stats\n",
    "from sklearn.preprocessing import Binarizer \n",
    "\n",
    "filename = 'Student_Admissions.csv' \n",
    "data = read_csv(filename, names=names) \n",
    "array = data.values\n",
    "# data\n",
    "\n",
    "# separate array into input and output components \n",
    "X = array[:,0:8] \n",
    "Y = array[:,-1] \n",
    "binarizer = Binarizer(threshold=0.0).fit(X) \n",
    "binary_data = binarizer.transform(X) \n",
    "binary_data = pd.DataFrame(binary_data, columns=names[:-1])\n",
    "binary_data['Batch'] = data['Batch']\n",
    "# binary_data\n",
    "\n",
    "# Group the data\n",
    "grouped_data = binary_data[['Batch', 'GWA7', 'GWA8']].groupby(['Batch']).sum()\n",
    "# grouped_data.values\n",
    "\n",
    "# Find p-value\n",
    "x_value, p_value, _, _ = stats.chi2_contingency(grouped_data.values)  \n",
    "print(\"The chi-square value is\", x_value, \"with a p-value of\", p_value) "
   ]
  }
 ],
 "metadata": {
  "kernelspec": {
   "display_name": "Python 3",
   "language": "python",
   "name": "python3"
  },
  "language_info": {
   "codemirror_mode": {
    "name": "ipython",
    "version": 3
   },
   "file_extension": ".py",
   "mimetype": "text/x-python",
   "name": "python",
   "nbconvert_exporter": "python",
   "pygments_lexer": "ipython3",
   "version": "3.7.3"
  }
 },
 "nbformat": 4,
 "nbformat_minor": 2
}
