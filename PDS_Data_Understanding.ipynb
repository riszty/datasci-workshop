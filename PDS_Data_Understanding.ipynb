{
 "cells": [
  {
   "cell_type": "markdown",
   "metadata": {},
   "source": [
    "# Python Ecosystem for Machine Learning"
   ]
  },
  {
   "cell_type": "code",
   "execution_count": 2,
   "metadata": {
    "ExecuteTime": {
     "end_time": "2019-10-04T00:51:27.284595Z",
     "start_time": "2019-10-04T00:51:26.431739Z"
    }
   },
   "outputs": [
    {
     "name": "stdout",
     "output_type": "stream",
     "text": [
      "Python 3.7.3\n",
      "scipy version: 1.2.1\n",
      "numpy version: 1.16.4\n",
      "matplotlib version: 3.1.0\n",
      "pandas version: 0.24.2\n"
     ]
    }
   ],
   "source": [
    "import scipy\n",
    "import numpy\n",
    "import matplotlib\n",
    "import pandas\n",
    "\n",
    "!python --version\n",
    "print('scipy version: %s'%(scipy.__version__))\n",
    "print('numpy version: %s'%(numpy.__version__))\n",
    "print('matplotlib version: %s'%(matplotlib.__version__))\n",
    "print('pandas version: %s'%(pandas.__version__))"
   ]
  },
  {
   "cell_type": "markdown",
   "metadata": {},
   "source": [
    "# Crash Course in Python and SciPy"
   ]
  },
  {
   "cell_type": "code",
   "execution_count": null,
   "metadata": {
    "ExecuteTime": {
     "end_time": "2019-10-04T00:51:33.278739Z",
     "start_time": "2019-10-04T00:51:33.266149Z"
    }
   },
   "outputs": [],
   "source": [
    "# Strings \n",
    "data = 'hello world' \n",
    "print(data[0]) \n",
    "print(len(data)) \n",
    "print(data)"
   ]
  },
  {
   "cell_type": "code",
   "execution_count": null,
   "metadata": {
    "ExecuteTime": {
     "end_time": "2019-10-04T00:51:33.836555Z",
     "start_time": "2019-10-04T00:51:33.829193Z"
    }
   },
   "outputs": [],
   "source": [
    "# Numbers \n",
    "value = 123.1\n",
    "print(value) \n",
    "value = 10 \n",
    "print(value)"
   ]
  },
  {
   "cell_type": "code",
   "execution_count": null,
   "metadata": {
    "ExecuteTime": {
     "end_time": "2019-10-04T00:51:34.352243Z",
     "start_time": "2019-10-04T00:51:34.343011Z"
    }
   },
   "outputs": [],
   "source": [
    "# Boolean \n",
    "a = True \n",
    "b = False \n",
    "print(a, b)"
   ]
  },
  {
   "cell_type": "code",
   "execution_count": null,
   "metadata": {
    "ExecuteTime": {
     "end_time": "2019-10-04T00:51:34.839152Z",
     "start_time": "2019-10-04T00:51:34.832639Z"
    }
   },
   "outputs": [],
   "source": [
    "# Multiple Assignment \n",
    "a, b, c = 1, 2, 3 \n",
    "print(a, b, c)"
   ]
  },
  {
   "cell_type": "code",
   "execution_count": null,
   "metadata": {
    "ExecuteTime": {
     "end_time": "2019-10-04T00:51:35.237857Z",
     "start_time": "2019-10-04T00:51:35.226392Z"
    }
   },
   "outputs": [],
   "source": [
    "# No value \n",
    "a = None \n",
    "print(a)"
   ]
  },
  {
   "cell_type": "code",
   "execution_count": null,
   "metadata": {
    "ExecuteTime": {
     "end_time": "2019-10-04T00:51:35.712465Z",
     "start_time": "2019-10-04T00:51:35.623220Z"
    }
   },
   "outputs": [],
   "source": [
    "# If-Then-Else Conditional\n",
    "value = 99 \n",
    "if value == 99: \n",
    "    print('That is fast')\n",
    "elif value > 200: \n",
    "    print('That is too fast' )\n",
    "else:\n",
    "    print('That is safe' )"
   ]
  },
  {
   "cell_type": "code",
   "execution_count": null,
   "metadata": {
    "ExecuteTime": {
     "end_time": "2019-10-04T00:51:36.111343Z",
     "start_time": "2019-10-04T00:51:35.909556Z"
    }
   },
   "outputs": [],
   "source": [
    "# For-Loop \n",
    "for i in range(10): \n",
    "    print(i)"
   ]
  },
  {
   "cell_type": "code",
   "execution_count": null,
   "metadata": {
    "ExecuteTime": {
     "end_time": "2019-10-04T00:51:36.152537Z",
     "start_time": "2019-10-04T00:51:36.143505Z"
    }
   },
   "outputs": [],
   "source": [
    "# While-Loop \n",
    "i = 0 \n",
    "while i < 10: \n",
    "    print(i) \n",
    "    i += 1"
   ]
  },
  {
   "cell_type": "code",
   "execution_count": null,
   "metadata": {
    "ExecuteTime": {
     "end_time": "2019-10-04T00:51:36.225620Z",
     "start_time": "2019-10-04T00:51:36.221447Z"
    }
   },
   "outputs": [],
   "source": [
    "# Tuple\n",
    "a = (1, 2, 3) \n",
    "print(a)"
   ]
  },
  {
   "cell_type": "code",
   "execution_count": null,
   "metadata": {
    "ExecuteTime": {
     "end_time": "2019-10-04T00:51:36.447497Z",
     "start_time": "2019-10-04T00:51:36.435225Z"
    }
   },
   "outputs": [],
   "source": [
    "# List\n",
    "mylist = [1, 2, 3] \n",
    "print(\"Zeroth Value: %d\" % mylist[0]) \n",
    "mylist.append(4) \n",
    "print(\"List Length: %d\" % len(mylist)) \n",
    "for value in mylist: \n",
    "    print(value)"
   ]
  },
  {
   "cell_type": "code",
   "execution_count": null,
   "metadata": {
    "ExecuteTime": {
     "end_time": "2019-10-04T00:51:36.674154Z",
     "start_time": "2019-10-04T00:51:36.663243Z"
    }
   },
   "outputs": [],
   "source": [
    "# Dictionary\n",
    "mydict = {' a' : 1, ' b' : 2, ' c' : 3} \n",
    "print(\"A value: %d\" % mydict[' a' ]) \n",
    "mydict[' a' ] = 11 \n",
    "print(\"A value: %d\" % mydict[' a' ]) \n",
    "print(\"Keys: %s\" % mydict.keys()) \n",
    "print(\"Values: %s\" % mydict.values()) \n",
    "for key in mydict.keys(): \n",
    "    print(mydict[key])"
   ]
  },
  {
   "cell_type": "code",
   "execution_count": null,
   "metadata": {
    "ExecuteTime": {
     "end_time": "2019-10-04T00:51:36.863414Z",
     "start_time": "2019-10-04T00:51:36.855359Z"
    }
   },
   "outputs": [],
   "source": [
    "# Sum function \n",
    "def mysum(x, y): \n",
    "    return x + y\n",
    "\n",
    "# Test sum function \n",
    "result = mysum(1, 3) \n",
    "print(result)"
   ]
  },
  {
   "cell_type": "code",
   "execution_count": null,
   "metadata": {
    "ExecuteTime": {
     "end_time": "2019-10-04T00:51:37.095759Z",
     "start_time": "2019-10-04T00:51:37.076604Z"
    }
   },
   "outputs": [],
   "source": [
    "# define an array \n",
    "import numpy \n",
    "mylist = [1, 2, 3] \n",
    "myarray = numpy.array(mylist) \n",
    "print(myarray) \n",
    "print(myarray.shape)"
   ]
  },
  {
   "cell_type": "code",
   "execution_count": null,
   "metadata": {
    "ExecuteTime": {
     "end_time": "2019-10-04T00:51:37.275188Z",
     "start_time": "2019-10-04T00:51:37.267935Z"
    }
   },
   "outputs": [],
   "source": [
    "# access values \n",
    "import numpy \n",
    "mylist = [[1, 2, 3], [3, 4, 5]] \n",
    "myarray = numpy.array(mylist) \n",
    "print(myarray) \n",
    "print(myarray.shape) \n",
    "print(\"First row: %s\" % myarray[0]) \n",
    "print(\"Last row: %s\" % myarray[-1]) \n",
    "print(\"Specific row and col: %s\" % myarray[0, 2]) \n",
    "print(\"Whole col: %s\" % myarray[:, 2])"
   ]
  },
  {
   "cell_type": "code",
   "execution_count": null,
   "metadata": {
    "ExecuteTime": {
     "end_time": "2019-10-04T00:51:37.460358Z",
     "start_time": "2019-10-04T00:51:37.451105Z"
    }
   },
   "outputs": [],
   "source": [
    "# arithmetic \n",
    "import numpy \n",
    "myarray1 = numpy.array([2, 2, 2]) \n",
    "myarray2 = numpy.array([3, 3, 3]) \n",
    "print(\"Addition: %s\" % (myarray1 + myarray2)) \n",
    "print(\"Multiplication: %s\" % (myarray1 * myarray2))"
   ]
  },
  {
   "cell_type": "code",
   "execution_count": null,
   "metadata": {
    "ExecuteTime": {
     "end_time": "2019-10-04T00:51:37.947581Z",
     "start_time": "2019-10-04T00:51:37.617700Z"
    }
   },
   "outputs": [],
   "source": [
    "# basic line plot \n",
    "import matplotlib.pyplot as plt \n",
    "import numpy \n",
    "myarray = numpy.array([1, 2, 3]) \n",
    "plt.plot(myarray) \n",
    "plt.xlabel(' some x axis' ) \n",
    "plt.ylabel(' some y axis' ) \n",
    "plt.show()"
   ]
  },
  {
   "cell_type": "code",
   "execution_count": null,
   "metadata": {
    "ExecuteTime": {
     "end_time": "2019-10-04T00:51:38.447575Z",
     "start_time": "2019-10-04T00:51:37.971976Z"
    }
   },
   "outputs": [],
   "source": [
    "# basic scatter plot \n",
    "import matplotlib.pyplot as plt \n",
    "import numpy \n",
    "x = numpy.array([1, 2, 3]) \n",
    "y = numpy.array([2, 4, 6]) \n",
    "plt.scatter(x,y) \n",
    "plt.xlabel(' some x axis' ) \n",
    "plt.ylabel(' some y axis' ) \n",
    "plt.show()"
   ]
  },
  {
   "cell_type": "code",
   "execution_count": null,
   "metadata": {
    "ExecuteTime": {
     "end_time": "2019-10-04T00:51:38.495873Z",
     "start_time": "2019-10-04T00:51:38.476593Z"
    }
   },
   "outputs": [],
   "source": [
    "# series\n",
    "import numpy \n",
    "import pandas \n",
    "myarray = numpy.array([1, 2, 3]) \n",
    "rownames = [' a' , ' b' , ' c' ] \n",
    "myseries = pandas.Series(myarray, index=rownames)\n",
    "print(myseries)"
   ]
  },
  {
   "cell_type": "code",
   "execution_count": null,
   "metadata": {
    "ExecuteTime": {
     "end_time": "2019-10-04T00:51:38.522192Z",
     "start_time": "2019-10-04T00:51:38.508750Z"
    }
   },
   "outputs": [],
   "source": [
    "print(myseries[0]) \n",
    "print(myseries[' a' ])"
   ]
  },
  {
   "cell_type": "code",
   "execution_count": null,
   "metadata": {
    "ExecuteTime": {
     "end_time": "2019-10-04T00:51:38.812450Z",
     "start_time": "2019-10-04T00:51:38.784744Z"
    }
   },
   "outputs": [],
   "source": [
    "# dataframe\n",
    "import numpy \n",
    "import pandas \n",
    "myarray = numpy.array([[1, 2, 3], [4, 5, 6]]) \n",
    "rownames = ['a' , 'b' ] \n",
    "colnames = ['one' , 'two' , 'three' ] \n",
    "mydataframe = pandas.DataFrame(myarray, index=rownames, columns=colnames) \n",
    "print(mydataframe)"
   ]
  },
  {
   "cell_type": "code",
   "execution_count": null,
   "metadata": {
    "ExecuteTime": {
     "end_time": "2019-10-04T00:51:39.472319Z",
     "start_time": "2019-10-04T00:51:39.463897Z"
    }
   },
   "outputs": [],
   "source": [
    "print(\"method 1:\") \n",
    "print(\"one column:\\n%s\" % mydataframe['one']) \n",
    "print(\"method 2:\") \n",
    "print(\"one column:\\n%s\" % mydataframe.one)"
   ]
  },
  {
   "cell_type": "markdown",
   "metadata": {},
   "source": [
    "# How To Load Machine Learning Data"
   ]
  },
  {
   "cell_type": "code",
   "execution_count": null,
   "metadata": {
    "ExecuteTime": {
     "end_time": "2019-10-04T00:51:40.244277Z",
     "start_time": "2019-10-04T00:51:40.217397Z"
    }
   },
   "outputs": [],
   "source": [
    "# Load CSV Using Python Standard Library \n",
    "import csv \n",
    "import numpy \n",
    "filename = 'Student_Admissions.csv' \n",
    "raw_data = open(filename, 'rt' ) \n",
    "reader = csv.reader(raw_data, delimiter=',' , quoting=csv.QUOTE_NONE) \n",
    "x = list(reader) \n",
    "data = numpy.array(x).astype('float' ) \n",
    "print(data.shape)"
   ]
  },
  {
   "cell_type": "code",
   "execution_count": null,
   "metadata": {
    "ExecuteTime": {
     "end_time": "2019-10-04T00:51:40.800511Z",
     "start_time": "2019-10-04T00:51:40.770992Z"
    }
   },
   "outputs": [],
   "source": [
    "# Load CSV using NumPy \n",
    "from numpy import loadtxt \n",
    "filename = 'pima-indians-diabetes.data.csv' \n",
    "raw_data = open(filename, 'rt' ) \n",
    "data = loadtxt(raw_data, delimiter=\",\") \n",
    "print(data.shape)"
   ]
  },
  {
   "cell_type": "code",
   "execution_count": null,
   "metadata": {
    "ExecuteTime": {
     "end_time": "2019-10-04T00:53:13.018984Z",
     "start_time": "2019-10-04T00:53:10.626424Z"
    }
   },
   "outputs": [],
   "source": [
    "# Load CSV from URL using NumPy \n",
    "from numpy import loadtxt \n",
    "from urllib.request import urlopen \n",
    "url = 'https://goo.gl/bDdBiA' \n",
    "raw_data = urlopen(url) \n",
    "dataset = loadtxt(raw_data, delimiter=\",\") \n",
    "print(dataset.shape)"
   ]
  },
  {
   "cell_type": "code",
   "execution_count": null,
   "metadata": {
    "ExecuteTime": {
     "end_time": "2019-10-04T00:53:14.415631Z",
     "start_time": "2019-10-04T00:53:14.398229Z"
    }
   },
   "outputs": [],
   "source": [
    "# Load CSV using Pandas \n",
    "from urllib.request import urlopen\n",
    "from pandas import read_csv \n",
    "filename = 'pima-indians-diabetes.data.csv' \n",
    "names = ['preg', 'plas', 'pres', 'skin', 'test', 'mass', 'pedi', 'age', 'class'] \n",
    "data = read_csv(filename, names=names) \n",
    "print(data.shape)"
   ]
  },
  {
   "cell_type": "code",
   "execution_count": null,
   "metadata": {
    "ExecuteTime": {
     "end_time": "2019-10-04T00:53:17.263687Z",
     "start_time": "2019-10-04T00:53:15.222932Z"
    }
   },
   "outputs": [],
   "source": [
    "# Load CSV using Pandas from URL \n",
    "from pandas import read_csv \n",
    "url = 'https://goo.gl/bDdBiA' \n",
    "names = ['preg', 'plas', 'pres', 'skin', 'test', 'mass', 'pedi', 'age', 'class'] \n",
    "data = read_csv(url, names=names) \n",
    "print(data.shape)"
   ]
  },
  {
   "cell_type": "markdown",
   "metadata": {},
   "source": [
    "# Understand Your Data With Descriptive Statistics"
   ]
  },
  {
   "cell_type": "code",
   "execution_count": null,
   "metadata": {
    "ExecuteTime": {
     "end_time": "2019-09-26T07:21:00.307554Z",
     "start_time": "2019-09-26T07:21:00.277952Z"
    }
   },
   "outputs": [],
   "source": [
    "# View first 20 rows \n",
    "from pandas import read_csv \n",
    "filename = \"pima-indians-diabetes.data.csv\" \n",
    "names = ['preg', 'plas', 'pres', 'skin', 'test', 'mass', 'pedi', 'age', 'class'] \n",
    "data = read_csv(filename, names=names) \n",
    "peek = data.head(20)\n",
    "print(peek)"
   ]
  },
  {
   "cell_type": "code",
   "execution_count": null,
   "metadata": {
    "ExecuteTime": {
     "end_time": "2019-09-26T07:21:00.938854Z",
     "start_time": "2019-09-26T07:21:00.925224Z"
    }
   },
   "outputs": [],
   "source": [
    "# Dimensions of your data \n",
    "from pandas import read_csv \n",
    "filename = \"pima-indians-diabetes.data.csv\" \n",
    "names = ['preg', 'plas', 'pres', 'skin', 'test', 'mass', 'pedi', 'age', 'class'] \n",
    "data = read_csv(filename, names=names) \n",
    "shape = data.shape \n",
    "print(shape)"
   ]
  },
  {
   "cell_type": "code",
   "execution_count": null,
   "metadata": {
    "ExecuteTime": {
     "end_time": "2019-09-26T07:21:02.239169Z",
     "start_time": "2019-09-26T07:21:02.222833Z"
    }
   },
   "outputs": [],
   "source": [
    "# Data Types for Each Attribute \n",
    "from pandas import read_csv \n",
    "filename = \"pima-indians-diabetes.data.csv\" \n",
    "names = ['preg', 'plas', 'pres', 'skin', 'test', 'mass', 'pedi', 'age', 'class'] \n",
    "data = read_csv(filename, names=names) \n",
    "types = data.dtypes \n",
    "print(types)"
   ]
  },
  {
   "cell_type": "code",
   "execution_count": null,
   "metadata": {
    "ExecuteTime": {
     "end_time": "2019-09-26T07:21:02.760803Z",
     "start_time": "2019-09-26T07:21:02.675366Z"
    }
   },
   "outputs": [],
   "source": [
    "# Statistical Summary \n",
    "from pandas import read_csv \n",
    "from pandas import set_option \n",
    "filename = \"pima-indians-diabetes.data.csv\" \n",
    "names = ['preg', 'plas', 'pres', 'skin', 'test', 'mass', 'pedi', 'age', 'class'] \n",
    "data = read_csv(filename, names=names) \n",
    "set_option('display.width', 100) \n",
    "set_option('precision', 3) \n",
    "description = data.describe() \n",
    "print(description)"
   ]
  },
  {
   "cell_type": "code",
   "execution_count": null,
   "metadata": {
    "ExecuteTime": {
     "end_time": "2019-09-26T07:21:03.565039Z",
     "start_time": "2019-09-26T07:21:03.545390Z"
    }
   },
   "outputs": [],
   "source": [
    "# Class Distribution\n",
    "from pandas import read_csv \n",
    "filename = \"pima-indians-diabetes.data.csv\" \n",
    "names = ['preg', 'plas', 'pres', 'skin', 'test', 'mass', 'pedi', 'age', 'class'] \n",
    "data = read_csv(filename, names=names)\n",
    "class_counts = data.groupby('class').size() \n",
    "print(class_counts)"
   ]
  },
  {
   "cell_type": "code",
   "execution_count": null,
   "metadata": {
    "ExecuteTime": {
     "end_time": "2019-09-26T07:21:04.561624Z",
     "start_time": "2019-09-26T07:21:04.532593Z"
    }
   },
   "outputs": [],
   "source": [
    "# Pairwise Pearson correlations \n",
    "from pandas import read_csv \n",
    "from pandas import set_option \n",
    "filename = \"pima-indians-diabetes.data.csv\" \n",
    "names = ['preg', 'plas', 'pres', 'skin', 'test', 'mass', 'pedi', 'age', 'class'] \n",
    "data = read_csv(filename, names=names) \n",
    "set_option('display.width', 100) \n",
    "set_option('precision', 3) \n",
    "correlations = data.corr(method='pearson' ) \n",
    "print(correlations)"
   ]
  },
  {
   "cell_type": "code",
   "execution_count": null,
   "metadata": {
    "ExecuteTime": {
     "end_time": "2019-09-26T07:21:05.255950Z",
     "start_time": "2019-09-26T07:21:05.234700Z"
    }
   },
   "outputs": [],
   "source": [
    "# Skew for each attribute \n",
    "from pandas import read_csv \n",
    "filename = \"pima-indians-diabetes.data.csv\" \n",
    "names = ['preg', 'plas', 'pres', 'skin', 'test', 'mass', 'pedi', 'age', 'class'] \n",
    "data = read_csv(filename, names=names) \n",
    "skew = data.skew() \n",
    "print(skew)"
   ]
  },
  {
   "cell_type": "markdown",
   "metadata": {},
   "source": [
    "# Understand Your Data With Visualization"
   ]
  },
  {
   "cell_type": "code",
   "execution_count": 7,
   "metadata": {
    "ExecuteTime": {
     "end_time": "2019-09-26T07:21:08.235528Z",
     "start_time": "2019-09-26T07:21:06.610949Z"
    },
    "scrolled": true
   },
   "outputs": [
    {
     "data": {
      "image/png": "[encoded data removed]",
      "text/plain": [
       "<Figure size 432x288 with 9 Axes>"
      ]
     },
     "metadata": {
      "needs_background": "light"
     },
     "output_type": "display_data"
    }
   ],
   "source": [
    "# Univariate Histograms \n",
    "from matplotlib import pyplot \n",
    "from pandas import read_csv \n",
    "filename = 'pima-indians-diabetes.data.csv' \n",
    "names = ['preg', 'plas', 'pres', 'skin', 'test', 'mass', 'pedi', 'age', 'class'] \n",
    "data = read_csv(filename, names=names) \n",
    "data.hist() \n",
    "pyplot.tight_layout()\n",
    "pyplot.show()"
   ]
  },
  {
   "cell_type": "code",
   "execution_count": null,
   "metadata": {
    "ExecuteTime": {
     "end_time": "2019-09-26T07:21:10.807237Z",
     "start_time": "2019-09-26T07:21:08.350666Z"
    }
   },
   "outputs": [],
   "source": [
    "# Univariate Density Plots \n",
    "from matplotlib import pyplot \n",
    "from pandas import read_csv \n",
    "filename = 'pima-indians-diabetes.data.csv' \n",
    "names = ['preg', 'plas', 'pres', 'skin', 'test', 'mass', 'pedi', 'age', 'class'] \n",
    "data = read_csv(filename, names=names) \n",
    "data.plot(kind='density' , subplots=True, layout=(3,3), sharex=False) \n",
    "pyplot.tight_layout()\n",
    "pyplot.show()"
   ]
  },
  {
   "cell_type": "code",
   "execution_count": 6,
   "metadata": {
    "ExecuteTime": {
     "end_time": "2019-09-26T07:21:12.589293Z",
     "start_time": "2019-09-26T07:21:10.955755Z"
    }
   },
   "outputs": [
    {
     "data": {
      "image/png": "[encoded data removed]",
      "text/plain": [
       "<Figure size 432x288 with 9 Axes>"
      ]
     },
     "metadata": {
      "needs_background": "light"
     },
     "output_type": "display_data"
    }
   ],
   "source": [
    "# Box and Whisker Plots \n",
    "from matplotlib import pyplot \n",
    "from pandas import read_csv \n",
    "filename = \"pima-indians-diabetes.data.csv\" \n",
    "names = ['preg', 'plas', 'pres', 'skin', 'test', 'mass', 'pedi', 'age', 'class'] \n",
    "data = read_csv(filename, names=names) \n",
    "data.plot(kind='box' , subplots=True, layout=(3,3), sharex=False, sharey=False) \n",
    "pyplot.tight_layout()\n",
    "pyplot.show()"
   ]
  },
  {
   "cell_type": "code",
   "execution_count": 4,
   "metadata": {
    "ExecuteTime": {
     "end_time": "2019-09-26T07:21:13.076377Z",
     "start_time": "2019-09-26T07:21:12.722105Z"
    }
   },
   "outputs": [
    {
     "data": {
      "image/png": "[encoded data removed]",
      "text/plain": [
       "<Figure size 432x288 with 2 Axes>"
      ]
     },
     "metadata": {
      "needs_background": "light"
     },
     "output_type": "display_data"
    }
   ],
   "source": [
    "# Correlation Matrix Plot \n",
    "from matplotlib import pyplot \n",
    "from pandas import read_csv \n",
    "import numpy \n",
    "filename = 'pima-indians-diabetes.data.csv' \n",
    "names = ['preg', 'plas', 'pres', 'skin', 'test', 'mass', 'pedi', 'age', 'class'] \n",
    "data = read_csv(filename, names=names) \n",
    "correlations = data.corr() \n",
    "\n",
    "# plot correlation matrix \n",
    "fig = pyplot.figure() \n",
    "ax = fig.add_subplot(111) \n",
    "cax = ax.matshow(correlations, vmin=-1, vmax=1) \n",
    "fig.colorbar(cax) \n",
    "ticks = numpy.arange(0,9,1) \n",
    "ax.set_xticks(ticks) \n",
    "ax.set_yticks(ticks) \n",
    "ax.set_xticklabels(names) \n",
    "ax.set_yticklabels(names) \n",
    "pyplot.show()"
   ]
  },
  {
   "cell_type": "code",
   "execution_count": null,
   "metadata": {
    "ExecuteTime": {
     "end_time": "2019-09-26T07:21:20.263291Z",
     "start_time": "2019-09-26T07:21:13.962415Z"
    }
   },
   "outputs": [],
   "source": [
    "\n"
   ]
  },
  {
   "cell_type": "code",
   "execution_count": 5,
   "metadata": {},
   "outputs": [
    {
     "name": "stdout",
     "output_type": "stream",
     "text": [
      "Empty DataFrame\n",
      "Columns: []\n",
      "Index: []\n"
     ]
    }
   ],
   "source": [
    " # Pairwise Pearson correlations \n",
    "from pandas import read_csv \n",
    "from pandas import set_option \n",
    "filename = 'Student_Admissions.csv' \n",
    "names = ['Batch','Eng7','Eng8','Eng9','Math7','Math8','Math9','Sci7','Sci8','Sci9','GWA7'] \n",
    "data = read_csv(filename, names=names) \n",
    "set_option('display.width', 100) \n",
    "set_option('precision', 3) \n",
    "correlations = data.corr(method='pearson' ) \n",
    "print(correlations)"
   ]
  },
  {
   "cell_type": "code",
   "execution_count": 3,
   "metadata": {},
   "outputs": [
    {
     "name": "stdout",
     "output_type": "stream",
     "text": [
      "      Batch  Eng7  Eng8  Eng9  Math7  Math8  Math9  Sci7  Sci8  Sci9    GWA7  \\\n",
      "NaN   Batch  Eng7  Eng8  Eng9  Math7  Math8  Math9  Sci7  Sci8  Sci9    GWA7   \n",
      "0.0    2005    77  82.0    86     94     87   92.0    84    80    92  1.4764   \n",
      "1.0    2005    57  57.0    59     55     46   57.0    53    45    53  2.6557   \n",
      "2.0    2005    55  52.0    55     57     53   51.0    57    62    51  2.6132   \n",
      "3.0    2005    69  78.0    78     87     79   79.0    83    82    79  1.7217   \n",
      "4.0    2005    64  71.0    68     71     57   54.0    60    59    55  2.4245   \n",
      "5.0    2005    66  61.0    68     57     50   53.0    71    51    55  2.4575   \n",
      "6.0    2005    73  82.0    77     90     82   74.0    77    77    68  1.7594   \n",
      "7.0    2005    85  86.0    88     82     76   78.0    93    87    81  1.4764   \n",
      "8.0    2005    70  68.0    67     77     67   61.0    72    61    62  2.0377   \n",
      "9.0    2005    49  49.0    51     51     50   50.0    62    55    47  2.6179   \n",
      "10.0   2005    76  78.0    75     83     77   84.0    86    77    80  1.7075   \n",
      "11.0   2005    63  60.0    57     62     62   56.0    69    66    58  2.2594   \n",
      "12.0   2005    80  82.0    83     85     80   81.0    92    87    83  1.5094   \n",
      "13.0   2005    61  55.0    64     52     48   58.0    63    57    53   2.533   \n",
      "14.0   2005    63  66.0    69     64     59   53.0    76    50    59  2.1415   \n",
      "15.0   2005    70  75.0    74     84     73   81.0    82    71    71  1.8585   \n",
      "16.0   2005    75  77.0    83     66     67   68.0    72    69    77  2.0047   \n",
      "17.0   2005    54  46.0    53     54     50   50.0    60    63    49  2.9057   \n",
      "18.0   2005    63  74.0    67     75     70   69.0    76    64    71  1.8774   \n",
      "\n",
      "        GWA8    GWA9  UP    IQ  Target  \n",
      "NaN     GWA8    GWA9  UP    IQ  Target  \n",
      "0.0   1.5045  1.4098   1  55.0       1  \n",
      "1.0      2.7  2.7008   1  38.0       0  \n",
      "2.0   2.6818  2.7172   0  17.0       0  \n",
      "3.0   1.6136  1.7049   1  45.0       0  \n",
      "4.0   2.4318  2.4713   1  67.0       0  \n",
      "5.0   2.5909  2.4672   0  79.0       0  \n",
      "6.0   1.6682  1.9344   1  89.0       1  \n",
      "7.0   1.4682     1.5   0  94.0       1  \n",
      "8.0   2.2045  2.4221   0  90.0       0  \n",
      "9.0   2.6909  2.7992   0  25.0       0  \n",
      "10.0  1.7227  1.7131   0  81.0       1  \n",
      "11.0  2.3182  2.3525   1  29.0       0  \n",
      "12.0  1.5818  1.6475   0  91.0       1  \n",
      "13.0  2.6727  2.5738   0  52.0       0  \n",
      "14.0  2.2909  2.3074   1  57.0       0  \n",
      "15.0  1.9364  1.9221   0  87.0       1  \n",
      "16.0  1.8955  1.7951   1  62.0       1  \n",
      "17.0  2.6864  2.7828   0  57.0       0  \n",
      "18.0  2.0091  2.0492   0  60.0       0  \n"
     ]
    }
   ],
   "source": [
    "# View first 20 rows \n",
    "from pandas import read_csv \n",
    "filename = 'Student_Admissions.csv' \n",
    "names = ['Batch','Eng7','Eng8','Eng9','Math7','Math8','Math9','Sci7','Sci8','Sci9','GWA7','GWA8','GWA9','UP','IQ','Target'] \n",
    "data = read_csv(filename, names=names) \n",
    "peek = data.head(20)\n",
    "print(peek)"
   ]
  },
  {
   "cell_type": "code",
   "execution_count": 4,
   "metadata": {},
   "outputs": [
    {
     "name": "stdout",
     "output_type": "stream",
     "text": [
      "(1011, 16)\n"
     ]
    }
   ],
   "source": [
    "# Dimensions of your data \n",
    "from pandas import read_csv \n",
    "filename = 'Student_Admissions.csv' \n",
    "#names = ['preg', 'plas', 'pres', 'skin', 'test', 'mass', 'pedi', 'age', 'class'] \n",
    "data = read_csv(filename, names=names) \n",
    "shape = data.shape \n",
    "print(shape)"
   ]
  },
  {
   "cell_type": "code",
   "execution_count": 5,
   "metadata": {},
   "outputs": [
    {
     "name": "stdout",
     "output_type": "stream",
     "text": [
      "Batch     object\n",
      "Eng7      object\n",
      "Eng8      object\n",
      "Eng9      object\n",
      "Math7     object\n",
      "Math8     object\n",
      "Math9     object\n",
      "Sci7      object\n",
      "Sci8      object\n",
      "Sci9      object\n",
      "GWA7      object\n",
      "GWA8      object\n",
      "GWA9      object\n",
      "UP        object\n",
      "IQ        object\n",
      "Target    object\n",
      "dtype: object\n"
     ]
    }
   ],
   "source": [
    "# Data Types for Each Attribute \n",
    "from pandas import read_csv \n",
    "filename = 'Student_Admissions.csv' \n",
    "#names = ['preg', 'plas', 'pres', 'skin', 'test', 'mass', 'pedi', 'age', 'class'] \n",
    "data = read_csv(filename, names=names) \n",
    "types = data.dtypes \n",
    "print(types)\n"
   ]
  },
  {
   "cell_type": "code",
   "execution_count": 6,
   "metadata": {},
   "outputs": [
    {
     "name": "stdout",
     "output_type": "stream",
     "text": [
      "       Batch  Eng7  Eng8  Eng9 Math7 Math8 Math9  Sci7  Sci8  Sci9  GWA7    GWA8  GWA9    UP  \\\n",
      "count   1011  1011  1010  1011  1011  1011  1010  1011  1011  1011  1011    1011  1010  1011   \n",
      "unique    11    51    52    50    59    58    59    48    58    58   483     654   667     4   \n",
      "top     2005    76  75.0    75    78    70  81.0    76    75    72  1.75  2.3455  1.75     1   \n",
      "freq     125    44    39    42    42    36    33    45    39    38     9       6     8   537   \n",
      "\n",
      "          IQ Target  \n",
      "count   1010   1011  \n",
      "unique    64      3  \n",
      "top     65.0      0  \n",
      "freq      48    530  \n"
     ]
    }
   ],
   "source": [
    "# Statistical Summary \n",
    "from pandas import read_csv \n",
    "from pandas import set_option \n",
    "filename = 'Student_Admissions.csv' \n",
    "data = read_csv(filename, names=names) \n",
    "set_option('display.width', 100) \n",
    "set_option('precision', 3) \n",
    "description = data.describe() \n",
    "print(description)"
   ]
  },
  {
   "cell_type": "code",
   "execution_count": 12,
   "metadata": {
    "scrolled": true
   },
   "outputs": [
    {
     "name": "stdout",
     "output_type": "stream",
     "text": [
      "Empty DataFrame\n",
      "Columns: []\n",
      "Index: []\n"
     ]
    }
   ],
   "source": [
    "# Pairwise Pearson correlations \n",
    "from pandas import read_csv \n",
    "from pandas import set_option \n",
    "filename = 'Student_Admissions.csv'  \n",
    "data = read_csv(filename, names=names) \n",
    "set_option('display.width', 100) \n",
    "set_option('precision', 3) \n",
    "correlations = data.corr(method='pearson' ) \n",
    "print(correlations)\n"
   ]
  },
  {
   "cell_type": "code",
   "execution_count": 13,
   "metadata": {
    "scrolled": true
   },
   "outputs": [
    {
     "name": "stdout",
     "output_type": "stream",
     "text": [
      "Series([], dtype: float64)\n"
     ]
    }
   ],
   "source": [
    "# Skew for each attribute \n",
    "from pandas import read_csv \n",
    "filename = 'Student_Admissions.csv'\n",
    "data = read_csv(filename, names=names) \n",
    "skew = data.skew() \n"
   ]
  }
 ],
 "metadata": {
  "kernelspec": {
   "display_name": "Python 3",
   "language": "python",
   "name": "python3"
  },
  "language_info": {
   "codemirror_mode": {
    "name": "ipython",
    "version": 3
   },
   "file_extension": ".py",
   "mimetype": "text/x-python",
   "name": "python",
   "nbconvert_exporter": "python",
   "pygments_lexer": "ipython3",
   "version": "3.7.3"
  },
  "latex_envs": {
   "LaTeX_envs_menu_present": true,
   "autoclose": false,
   "autocomplete": true,
   "bibliofile": "biblio.bib",
   "cite_by": "apalike",
   "current_citInitial": 1,
   "eqLabelWithNumbers": true,
   "eqNumInitial": 1,
   "hotkeys": {
    "equation": "Ctrl-E",
    "itemize": "Ctrl-I"
   },
   "labels_anchors": false,
   "latex_user_defs": false,
   "report_style_numbering": false,
   "user_envs_cfg": false
  },
  "toc": {
   "base_numbering": 1,
   "nav_menu": {},
   "number_sections": true,
   "sideBar": true,
   "skip_h1_title": false,
   "title_cell": "Table of Contents",
   "title_sidebar": "Contents",
   "toc_cell": false,
   "toc_position": {
    "height": "458px",
    "left": "198px",
    "top": "110px",
    "width": "277px"
   },
   "toc_section_display": true,
   "toc_window_display": true
  },
  "varInspector": {
   "cols": {
    "lenName": 16,
    "lenType": 16,
    "lenVar": 40
   },
   "kernels_config": {
    "python": {
     "delete_cmd_postfix": "",
     "delete_cmd_prefix": "del ",
     "library": "var_list.py",
     "varRefreshCmd": "print(var_dic_list())"
    },
    "r": {
     "delete_cmd_postfix": ") ",
     "delete_cmd_prefix": "rm(",
     "library": "var_list.r",
     "varRefreshCmd": "cat(var_dic_list()) "
    }
   },
   "types_to_exclude": [
    "module",
    "function",
    "builtin_function_or_method",
    "instance",
    "_Feature"
   ],
   "window_display": false
  }
 },
 "nbformat": 4,
 "nbformat_minor": 2
}
